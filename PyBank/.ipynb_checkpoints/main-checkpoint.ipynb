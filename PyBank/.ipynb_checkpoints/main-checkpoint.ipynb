{
 "cells": [
  {
   "cell_type": "markdown",
   "id": "278cd189-e746-47b8-8804-b22d4b31526d",
   "metadata": {},
   "source": [
    "# PyBank"
   ]
  },
  {
   "cell_type": "markdown",
   "id": "25defba5-5da6-4b71-ab74-7c5702e9ada1",
   "metadata": {},
   "source": [
    "## Read Data from CSV File"
   ]
  },
  {
   "cell_type": "code",
   "execution_count": 14,
   "id": "4393ecfa-8d73-40e4-b509-bc033426b73b",
   "metadata": {},
   "outputs": [],
   "source": [
    "import os # for file path\n",
    "import csv # for reading csv file\n",
    "\n",
    "current_dir = os.getcwd() # get current working dir\n",
    "\n",
    "path_budget_data = os.path.join(current_dir, \"Resources\", \"budget_data.csv\") # get csv file path\n",
    "\n",
    "def read_csv_file(file_path):\n",
    "    \"\"\"\n",
    "    Reads a CSV file and returns the data as a list of dictionaries.\n",
    "    Each dictionary represents a row, with column names as keys and corresponding values.\n",
    "    Args:\n",
    "        file_path (str): The path to the CSV file.\n",
    "    Returns:\n",
    "        list: A list of dictionaries representing the CSV data.\n",
    "    \"\"\"\n",
    "    data = []\n",
    "    \n",
    "    with open(file_path, 'r') as csvfile:\n",
    "        reader = csv.DictReader(csvfile)\n",
    "        for row in reader:\n",
    "            data.append(dict(row))\n",
    "            \n",
    "    return data\n",
    "\n",
    "budget_data = read_csv_file(path_budget_data)"
   ]
  },
  {
   "cell_type": "markdown",
   "id": "9bf8311b-a4a3-4e7d-a9ab-f302fe727889",
   "metadata": {},
   "source": [
    "## Calculate the Total Number of Months"
   ]
  },
  {
   "cell_type": "code",
   "execution_count": 15,
   "id": "c8e8a7ba-b95a-4ada-ac6f-8c013fa24636",
   "metadata": {},
   "outputs": [
    {
     "name": "stdout",
     "output_type": "stream",
     "text": [
      "Total Months: 86\n"
     ]
    }
   ],
   "source": [
    "# The total number of months included in the dataset is the number of rows in the csv file.\n",
    "# Therefore it is the number of dictionaries in the list, i.e. the length of the list.\n",
    "\n",
    "total_months = len(budget_data) # get length of list\n",
    "\n",
    "print(f\"Total Months: {total_months}\")"
   ]
  },
  {
   "cell_type": "markdown",
   "id": "99d169a5-96c4-49ed-a40f-3eda62686381",
   "metadata": {},
   "source": [
    "## Calculate the Net Total Amount of Profit/Losses"
   ]
  },
  {
   "cell_type": "code",
   "execution_count": 16,
   "id": "033c4581-116e-4e0b-a393-7ac467efee69",
   "metadata": {},
   "outputs": [
    {
     "name": "stdout",
     "output_type": "stream",
     "text": [
      "Total: $38382578\n"
     ]
    }
   ],
   "source": [
    "def cal_net_profit_loss(data):\n",
    "    \"\"\"\n",
    "    Iterate over the data and calculate the net total Profit/Losses.\n",
    "    Args:\n",
    "        data (list): The list of dictionaries representing the budget data.\n",
    "    Returns:\n",
    "        int: The integer representing the net total Profit/Losses.\n",
    "    \"\"\"\n",
    "    net_total = 0\n",
    "    \n",
    "    for row in data:\n",
    "        net_total = net_total + int(row['Profit/Losses']) \n",
    "    \n",
    "    return net_total\n",
    "\n",
    "net_profit_loss = cal_net_profit_loss(budget_data) # calculate net profit/losses\n",
    "\n",
    "print(f\"Total: ${net_profit_loss}\")"
   ]
  },
  {
   "cell_type": "markdown",
   "id": "646ccdc0-3289-4178-b8c7-b86aabe0390b",
   "metadata": {},
   "source": [
    "## Calculate the Average of the Changes in Profit/Losses"
   ]
  },
  {
   "cell_type": "code",
   "execution_count": 17,
   "id": "58ad37a2-6e9e-48ae-a239-4c449c7a6cef",
   "metadata": {},
   "outputs": [
    {
     "name": "stdout",
     "output_type": "stream",
     "text": [
      "Average Change: $-2315.12\n"
     ]
    }
   ],
   "source": [
    "def get_changes(data):\n",
    "    \"\"\"\n",
    "    Iterate over the data and calculate the change in Profit/Losses \n",
    "    between two consecutive months.\n",
    "    Args:\n",
    "        data (list): The list of dictionaries representing the budget data.\n",
    "    Returns:\n",
    "        list: The list of dictionaries representing the changes in the budget data.\n",
    "    \"\"\"\n",
    "    changes = []\n",
    "    \n",
    "    for i in range(1,len(data)):\n",
    "        current_profit_loss = int(data[i]['Profit/Losses'])\n",
    "        previous_profit_loss = int(data[i-1]['Profit/Losses'])\n",
    "        change_profit_loss = current_profit_loss - previous_profit_loss\n",
    "        changes.append({'Date': data[i]['Date'], 'Change in Profit/Losses': change_profit_loss})\n",
    "        \n",
    "    return changes\n",
    "\n",
    "def cal_average_changes(changes_data):\n",
    "    \"\"\"\n",
    "    Iterate over the data and calculate the average of the changes in Profit/Losses.\n",
    "    Args:\n",
    "        changes_data (list): The list of dictionaries representing the changes in the budget data.\n",
    "    Returns:\n",
    "        float: The float representing the average of the changes in Profit/Losses.\n",
    "    \"\"\"\n",
    "    total_change = 0\n",
    "    \n",
    "    for row in changes_data:\n",
    "        total_change = total_change + int(row['Change in Profit/Losses'])\n",
    "        \n",
    "    average_change = round(total_change/len(changes_data), 2)\n",
    " \n",
    "    return average_change\n",
    "\n",
    "changes_data = get_changes(budget_data) # calculate the changes in profit/losses for each month\n",
    "average_change = cal_average_changes(changes_data) # calculate the average of the changes\n",
    "\n",
    "print(f\"Average Change: ${average_change}\")"
   ]
  },
  {
   "cell_type": "markdown",
   "id": "64fd4fde-1347-46d1-8422-1b5ff8bc34c9",
   "metadata": {},
   "source": [
    "## Calculate the Greatest Increase in Profits"
   ]
  },
  {
   "cell_type": "code",
   "execution_count": 18,
   "id": "7762836b-6d6a-4a68-91b4-32faa52d0048",
   "metadata": {},
   "outputs": [
    {
     "name": "stdout",
     "output_type": "stream",
     "text": [
      "Greatest Increase in Profits: Feb-2012 ($1926159)\n"
     ]
    }
   ],
   "source": [
    "def get_greatest_profit(changes_data):\n",
    "    \"\"\"\n",
    "    Iterate over the data and return the date and amount of the greatest increase in profits.\n",
    "    Args:\n",
    "        changes_data (list): The list of dictionaries representing the changes in the budget data.\n",
    "    Returns:\n",
    "        dict: The dictionary representing date and amount of the greatest increase in profits.\n",
    "    \"\"\"\n",
    "    greatest_profit = {'Date': 'Month-Year', 'Change in Profit/Losses': 0}\n",
    "    \n",
    "    for row in changes_data:\n",
    "        if row['Change in Profit/Losses'] >= greatest_profit['Change in Profit/Losses']:\n",
    "            greatest_profit.update(row)\n",
    "        else:\n",
    "            pass\n",
    "    \n",
    "    return greatest_profit\n",
    "\n",
    "greatest_profit = get_greatest_profit(changes_data) # get the greatest increase in profits\n",
    "\n",
    "print(f\"Greatest Increase in Profits: {greatest_profit['Date']} (${greatest_profit['Change in Profit/Losses']})\")"
   ]
  },
  {
   "cell_type": "markdown",
   "id": "4be0b20f-30f8-4cd9-94d3-a1a00dfcfd84",
   "metadata": {},
   "source": [
    "## Calculate the Greatest Decrease in Losses"
   ]
  },
  {
   "cell_type": "code",
   "execution_count": 19,
   "id": "eab2f77b-3591-4756-8360-24f0a8aedad2",
   "metadata": {},
   "outputs": [
    {
     "name": "stdout",
     "output_type": "stream",
     "text": [
      "Greatest Decrease in Losses: Sep-2013 ($-2196167)\n"
     ]
    }
   ],
   "source": [
    "def get_greatest_loss(changes_data):\n",
    "    \"\"\"\n",
    "    Iterate over the data and return the date and amount of the greatest decrease in losses.\n",
    "    Args:\n",
    "        changes_data (list): The list of dictionaries representing the changes in the budget data.\n",
    "    Returns:\n",
    "        dict: The dictionary representing date and amount of the greatest decrease in losses.\n",
    "    \"\"\"\n",
    "    greatest_loss = {'Date': 'Month-Year', 'Change in Profit/Losses': 0}\n",
    "    \n",
    "    for row in changes_data:\n",
    "        if row['Change in Profit/Losses'] <= greatest_loss['Change in Profit/Losses']:\n",
    "            greatest_loss.update(row)\n",
    "        else:\n",
    "            pass\n",
    "    \n",
    "    return greatest_loss\n",
    "\n",
    "greatest_loss = get_greatest_loss(changes_data) # get the greatest decrease in losses\n",
    "\n",
    "print(f\"Greatest Decrease in Losses: {greatest_loss['Date']} (${greatest_loss['Change in Profit/Losses']})\")"
   ]
  },
  {
   "cell_type": "markdown",
   "id": "d93fea0d-9e03-441d-9d9f-adcceb9f0f8a",
   "metadata": {},
   "source": [
    "## Print and Export Final Results"
   ]
  },
  {
   "cell_type": "code",
   "execution_count": 20,
   "id": "e58b4cb9-3b0e-43fa-8511-e76bab73d753",
   "metadata": {},
   "outputs": [
    {
     "name": "stdout",
     "output_type": "stream",
     "text": [
      "Financial Analysis\n",
      "----------------------------\n",
      "Total Months: 86\n",
      "Total: $38382578\n",
      "Average Change: $-2315.12\n",
      "Greatest Increase in Profits: Feb-2012 ($1926159)\n",
      "Greatest Decrease in Losses: Sep-2013 ($-2196167)\n",
      "\n"
     ]
    }
   ],
   "source": [
    "# Format the resulting analysis into a string.\n",
    "\n",
    "results = f\"\"\"Financial Analysis\n",
    "----------------------------\n",
    "Total Months: {total_months}\n",
    "Total: ${net_profit_loss}\n",
    "Average Change: ${average_change}\n",
    "Greatest Increase in Profits: {greatest_profit['Date']} (${greatest_profit['Change in Profit/Losses']})\n",
    "Greatest Decrease in Losses: {greatest_loss['Date']} (${greatest_loss['Change in Profit/Losses']})\n",
    "\"\"\"\n",
    "\n",
    "# Print the analysis to the terminal\n",
    "\n",
    "print(results)\n",
    "\n",
    "# Export a text file with the results\n",
    "\n",
    "def export_results(results):\n",
    "    \"\"\"\n",
    "    Export results to a text file\n",
    "    Args:\n",
    "        results (str): The string containing the results of the analysis\n",
    "    Returns:\n",
    "        None\n",
    "    \"\"\"\n",
    "    with open('results.txt', 'w') as f:\n",
    "        f.write(results)\n",
    "        \n",
    "    return None\n",
    "\n",
    "export_results(results) # Export the results to results.txt"
   ]
  },
  {
   "cell_type": "markdown",
   "id": "1a941d4f-0cbd-4797-9f09-983b35ff04c3",
   "metadata": {},
   "source": [
    "## Contributor\n",
    "Andy Vu\n",
    "\n",
    "## Resources\n",
    "\n",
    "* [csv — CSV File Reading and Writing¶](https://docs.python.org/3/library/csv.html)\n",
    "* [Input and Output](https://docs.python.org/3/tutorial/inputoutput.html)"
   ]
  }
 ],
 "metadata": {
  "kernelspec": {
   "display_name": "Python 3 (ipykernel)",
   "language": "python",
   "name": "python3"
  },
  "language_info": {
   "codemirror_mode": {
    "name": "ipython",
    "version": 3
   },
   "file_extension": ".py",
   "mimetype": "text/x-python",
   "name": "python",
   "nbconvert_exporter": "python",
   "pygments_lexer": "ipython3",
   "version": "3.10.9"
  }
 },
 "nbformat": 4,
 "nbformat_minor": 5
}
